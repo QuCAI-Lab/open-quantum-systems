{
 "cells": [
  {
   "cell_type": "markdown",
   "id": "d6a0754e",
   "metadata": {},
   "source": [
    "<!-- Title: -->\n",
    "<div align=\"center\">\n",
    "  <h1><b> Evolution in Close Quantum Systems </b></h1>\n",
    "  <h3> Crash Course - Open Quantum Systems </h3>\n",
    "</div>\n",
    "\n",
    "<br>\n",
    "<b>Author:</b> <a target=\"_blank\" href=\"https://github.com/camponogaraviera\">Lucas Camponogara Viera</a>"
   ]
  },
  {
   "cell_type": "markdown",
   "id": "4381e988",
   "metadata": {},
   "source": [
    "<div align='center'>\n",
    "<table class=\"tfo-notebook-buttons\" align=\"head\">\n",
    "  <td>\n",
    "    <a target=\"_blank\" href=\"https://github.com/QuCAI-Lab\"><img src=\"https://www.tensorflow.org/images/GitHub-Mark-32px.png\" /></a>\n",
    "  </td>\n",
    "</table>\n",
    "</div>"
   ]
  },
  {
   "cell_type": "code",
   "execution_count": 1,
   "id": "5c0b5d7f",
   "metadata": {},
   "outputs": [
    {
     "data": {
      "application/javascript": [
       "IPython.notebook.set_autosave_interval(30000)"
      ]
     },
     "metadata": {},
     "output_type": "display_data"
    },
    {
     "name": "stdout",
     "output_type": "stream",
     "text": [
      "Autosaving every 30 seconds\n"
     ]
    }
   ],
   "source": [
    "%autosave 30"
   ]
  },
  {
   "cell_type": "markdown",
   "id": "c825dad6",
   "metadata": {},
   "source": [
    "# Table of Contents\n",
    "\n",
    "- [Evolution in Close Quantum Systems](#close).\n",
    "    - Wave Mechanics formalism\n",
    "    - Matrix Mechanics formalism\n",
    "        - Schrödinger Picture (S-P)\n",
    "        - Heisenberg Picture (H-P)\n",
    "    - Density Matrix Formalism"
   ]
  },
  {
   "cell_type": "markdown",
   "id": "eab723db",
   "metadata": {},
   "source": [
    "For closed quantum systems, i.e, systems that are isolated from its environment, the dynamics of the system is described by the linear partial differential and time-dependent Schrödinger equation."
   ]
  },
  {
   "cell_type": "markdown",
   "id": "c9e8a79f",
   "metadata": {},
   "source": [
    "# Wave Mechanics formalism"
   ]
  },
  {
   "cell_type": "markdown",
   "id": "b38e2778",
   "metadata": {},
   "source": [
    "In the wave mechanics formalism of quantum mechanics, the Schrödinger equation in the position representation reads:\n",
    "\n",
    "\\begin{eqnarray}\n",
    "i \\hbar \\frac{\\partial \\Psi(\\vec{r}, t)}{\\partial t} &= \\hat{H}(t)\\Psi(\\vec{r}, t). \\tag{SH1}\n",
    "\\end{eqnarray}\n",
    "\n",
    "Where: \n",
    "\n",
    "- $\\Psi(\\vec{r}, t) \\doteq \\Psi(x, y, z, t): \\mathbb{R}^{4}\\rightarrow\\mathbb{C}$ is the complex valued scalar wavefunction containing the information about the particle's dynamics in the *position space* of continuous spectrum. The spectrum is the set of all eigenvalues of a given operator.\n",
    "- $\\hat{H}(t)$ is the Hamiltonian of the system, i.e, the sum of its kinetic and potential energy.\n",
    "- $i$ is the imaginary unit.\n",
    "- $\\hbar$ is the reduced Planck constante a.k.a quantum of action.\n",
    "\n",
    "The Schrödinger equation can also be written in the form:\n",
    "\n",
    "\\begin{eqnarray}\n",
    "{i\\hbar\\partial_{t}\\Psi(\\vec{q},t)=\\left(-\\frac{\\hbar^{2}}{2m} \\nabla^{2}_{\\vec{q}}+V(\\vec{q},t) \\right) \\Psi(\\vec{q},t)}.\n",
    "\\end{eqnarray}\n",
    "\n",
    "Where:\n",
    "\n",
    "- $\\partial_t \\equiv \\frac{\\partial}{\\partial_t}$.\n",
    "- $\\nabla^2_{\\vec{q}}$ is the second-order differential Laplace operator in generalized coordinates $q_j|_{j=1}^3$. \n",
    "- $V(\\vec{q}, t)$ is the time-dependent potential energy.\n",
    "\n",
    "The Laplace operator is defined as the divergence ($\\vec{\\nabla} \\cdot $) of the gradient ($\\vec{\\nabla} \\Phi$) and, therefore, it is a scalar operator and contrasts with the gradient which is a vector operator acting on a scalar field (function) $\\Phi$. \n",
    "\n",
    "- The gradient operator in **generalized coordinates**. Given a scalar field $\\Phi=\\Phi(q_1, q_2, q_3)$,\n",
    "\n",
    "$$\\vec{\\nabla}_{\\vec{q}} \\Phi = \\frac{\\partial \\Phi}{h_j\\partial q_j} \\hat{e}_j =  \\frac{1}{h_1}\\frac{\\partial \\Phi}{\\partial q_1} \\hat{e}_1 + \\frac{1}{h_2}\\frac{\\partial \\Phi}{\\partial q_2} \\hat{e}_2 + \\frac{1}{h_3}\\frac{\\partial \\Phi}{\\partial q_3} \\hat{e}_3.$$\n",
    "\n",
    "- The divergence operator in **generalized coordinates**. Given a vectorial field $\\vec{A}=A(q_1, q_2, q_3)= A_1 \\hat{e}_1+A_2 \\hat{e}_2+A_3 \\hat{e}_3$,\n",
    "\n",
    "$$\\vec{\\nabla}_{\\vec{q}} \\cdot \\vec{A} =  \\frac{1}{h_1 h_2 h_3} \\bigg[\\frac{\\partial (A_1 h_2 h_3)}{\\partial q_1} + \\frac{\\partial (A_2 h_1 h_3)}{\\partial q_2} + \\frac{\\partial (A_3 h_1 h_2)}{\\partial q_3} \\bigg].$$\n",
    "\n",
    "\n",
    "- The Laplace operator in **Cartesian coordinates**. Given a scalar field $\\Phi=\\Phi(x, y, z)$,\n",
    "\n",
    "$$\\nabla^2_{\\vec{r}} \\Phi = \\vec{\\nabla} \\cdot \\vec{\\nabla}(\\Phi) = \\partial_{rr} \\Phi = \\sum_{j=1}^3\\frac{\\partial^2 \\Phi}{\\partial r_j^2} = \\frac{\\partial^2 \\Phi}{\\partial x^2}+ \\frac{\\partial^2 \\Phi}{\\partial y^2} + \\frac{\\partial^2 \\Phi}{\\partial z^2}.$$"
   ]
  },
  {
   "cell_type": "markdown",
   "id": "cafbf426",
   "metadata": {},
   "source": [
    "# Matrix Mechanics formalism"
   ]
  },
  {
   "cell_type": "markdown",
   "id": "1a47507b",
   "metadata": {},
   "source": [
    "In the Hilbert **state space (statevector) formalism** (a.k.a qubit representation), the time-dependent Schrödinger equation reads:\n",
    "\n",
    "\\begin{eqnarray}\n",
    "i \\hbar\\frac{d}{dt}|\\psi(t)\\rangle= \\hat{H} |\\psi(t)\\rangle, \\tag{SH2}\n",
    "\\end{eqnarray}\n",
    "\n",
    "where $|\\psi\\rangle$ is the state of the quantum system in a linear superposition (combination) according to definitions for either a continuous or a discrete case."
   ]
  },
  {
   "cell_type": "markdown",
   "id": "d3ae07e9",
   "metadata": {},
   "source": [
    "## Schrödinger Picture (SP)"
   ]
  },
  {
   "cell_type": "markdown",
   "id": "969ed7c4",
   "metadata": {},
   "source": [
    "In the **Schrödinger picture** (SP) a.k.a representation, the evolution of the initial state $|\\psi_{t=0}^{SP}\\rangle$ over time is given by:\n",
    "\n",
    "\\begin{equation} \n",
    "|\\psi_t^{SP}\\rangle=\\hat{U}_t|\\psi_0^{SP}\\rangle.\n",
    "\\end{equation}  \n",
    "\n",
    "While the operator describing a certain physical observable remains constant in time:\n",
    "\n",
    "\\begin{equation} \n",
    "\\hat{O}_t^{SP}=\\hat{O}_0^{SP}=\\sum_{j=1}^d o_j |o_j^{SP}\\rangle\\langle o_j^{SP}|. \n",
    "\\end{equation}  "
   ]
  },
  {
   "cell_type": "markdown",
   "id": "b322ebfb",
   "metadata": {},
   "source": [
    "The probabilities are given by:\n",
    "    \n",
    "\\begin{eqnarray}\n",
    "Pr(o_j|\\psi_t^{SP}\\rangle) \\doteq |\\langle o_j^{SP} |\\psi_t^{SP} \\rangle|^2 = |\\langle \\psi_t^{SP} |o_j^{SP} \\rangle|^2= |c_j|^2.\n",
    "\\end{eqnarray}"
   ]
  },
  {
   "cell_type": "markdown",
   "id": "251bf82f",
   "metadata": {},
   "source": [
    "## Heisenberg Picture (HP)"
   ]
  },
  {
   "cell_type": "markdown",
   "id": "30a92477",
   "metadata": {},
   "source": [
    "In the **Heisenberg picture** (HP), a physical observable evolves over time according to:\n",
    "\n",
    "\\begin{eqnarray} \n",
    "\\hat{O}_t^{HP} &=& \\sum_{j=1}^d o_j |o_j^{HP} (t)\\rangle\\langle o_j^{HP} (t)| = \\sum_{j=1}^d o_j \\hat{U}_{t}^{\\dagger}|o_j^{SP}\\rangle\\langle o_j^{SP}|\\hat{U}_t = \\hat{U}_t^{\\dagger}\\sum_{j=1}^d o_j|o_j^{SP}\\rangle\\langle o_j^{SP}|\\hat{U}_t \\\\\n",
    "&=& \\hat{U}_t^{\\dagger} \\hat{O}_0^{SP} \\hat{U}_t.\n",
    "\\end{eqnarray} \n",
    "\n",
    "Here, the eigenstates of the observable evolves over time\n",
    "\n",
    "\\begin{equation} \n",
    "|o_j^{HP}(t)\\rangle = \\hat{U}_t^{\\dagger}|o_j^{SP}\\rangle,\n",
    "\\end{equation}  \n",
    "\n",
    "while the global state of the quantum system remains constant:\n",
    "\n",
    "\\begin{equation} \n",
    "|\\psi_t^{HP}\\rangle = |\\psi_0^{SP}\\rangle \\equiv |\\psi_0\\rangle. \n",
    "\\end{equation}  "
   ]
  },
  {
   "cell_type": "markdown",
   "id": "1a376a79",
   "metadata": {},
   "source": [
    "Probabilities should not depend on the choice of the picture, i.e, both pictures should give the same result:\n",
    "    \n",
    "\\begin{eqnarray}\n",
    "Pr(o_j|\\psi_t^{HP}\\rangle) \\doteq |\\langle o_j^{HP} |\\psi_t^{HP} \\rangle|^2 = |\\langle o_j^{SP} | \\hat{U}_t |\\psi_0^{SP} \\rangle|^2 = |\\langle o_j^{SP} |\\psi_t^{SP} \\rangle|^2,\n",
    "\\end{eqnarray}\n",
    "\n",
    "where it was used the identity $(U|v\\rangle)^{\\dagger} = |v\\rangle^{\\dagger}U^{\\dagger} = \\langle v| U^{\\dagger}$ to write\n",
    "\n",
    "$$|o_j^{HP}(t)\\rangle^{\\dagger} = \\langle o_j^{HP} (t)| = \\Big(\\hat{U}_t^{\\dagger}|o_j^{SP}\\rangle \\Big)^{\\dagger} = \\langle o_j^{SP} | \\hat{U}_t.$$"
   ]
  },
  {
   "cell_type": "markdown",
   "id": "fd3c0021",
   "metadata": {},
   "source": [
    "## Solution for the Schrödinger equation\n",
    "\n",
    "- Matrix exponentiation."
   ]
  },
  {
   "cell_type": "markdown",
   "id": "35be2139",
   "metadata": {},
   "source": [
    "Regardless of the picture used, the solution for the unitary evolution operator $\\hat{U}_t$ is obtained by solving the Schrödinger equation:\n",
    "\n",
    "\\begin{equation} \n",
    "i\\hbar \\partial_t |\\psi_t\\rangle = i\\hbar \\partial_t (\\hat{U}_t |\\psi_0\\rangle) = (i\\hbar \\partial_t \\hat{U}_t)|\\psi_0\\rangle = \\hat{H}_t|\\psi_t\\rangle = \\hat{H}_t \\hat{U}_t|\\psi_0\\rangle. \n",
    "\\end{equation}  \n",
    "\n",
    "Where $\\partial_t \\equiv \\frac{\\partial}{\\partial_t}$.\n",
    "\n",
    "One can suppress the initial state $|\\psi_0\\rangle$ to write:\n",
    "\n",
    "\\begin{equation} \n",
    "i\\hbar \\partial_t \\hat{U}_t = \\hat{H}_t\\hat{U}_t,\n",
    "\\end{equation}  \n",
    "\n",
    "which is known as **Schrödinger equation of the time evolution operator**."
   ]
  },
  {
   "cell_type": "markdown",
   "id": "d4929b43",
   "metadata": {},
   "source": [
    "Solution for the Schrödinger equation of the time-dependent evolution operator $\\hat{U}(t)$ depends mostly on the characteristic of the Hamiltonian $\\hat{H}$. \n",
    "\n",
    "In the particular case of a **time-independent Hamiltonian (conservative system)**, the above relation can be used to write the closed-form solution:\n",
    "\n",
    "\\begin{eqnarray}\n",
    "\\hat{U}(t) = e^{-i\\hat{H}t / \\hbar}.\n",
    "\\end{eqnarray}\n",
    "\n",
    "---\n",
    "A know fact from linear algebra is that any Unitary operator can be constructed by means of some Hermitian operator and a real number $\\gamma$:\n",
    "\n",
    "\\begin{eqnarray}\n",
    "\\hat{U}=e^{-i\\gamma\\hat{H}}.\n",
    "\\end{eqnarray}\n",
    "\n",
    "To show the above is true, one can prove its unitarity:\n",
    "\n",
    "\\begin{eqnarray}\n",
    "\\hat{U}^{\\dagger}&=&(e^{-i\\gamma\\hat{H}})^{\\dagger}=e^{i\\gamma\\hat{H}^{\\dagger}} = e^{i\\gamma\\hat{H}}, \\\\\n",
    "&\\implies&\n",
    "\\hat{U}\\hat{U}^{\\dagger}=e^{-i\\gamma\\hat{H}}e^{i\\gamma\\hat{H}}=\\mathbb{I},\n",
    "\\end{eqnarray}\n",
    "\n",
    "where it was used the property: $(e^{z\\hat{A}})^{\\dagger} = e^{(z\\hat{A})^{\\dagger}}=e^{\\hat{A}^{\\dagger}z^{\\dagger}}=e^{z^{\\dagger}\\hat{A}^{\\dagger}}$, for a complex number $z$ and matrix $\\hat{A}$. Also, recall that physical observables are hermitian operators and, therefore, $\\hat{H} = \\hat{H}^{\\dagger}$.\n",
    "\n",
    "---\n",
    "\n",
    "One can check that it is indeed a solution for the Sch. equation by expanding the exponential function in Taylor series around the point $x_0=0$ (Maclaurin series) and differentiating term by term. The Maclauring series for $f(x)=e^{i\\gamma\\hat{H}}$ with $e^{\\mathbb{O}}=\\mathbb{I}$ is:\n",
    "\n",
    "\\begin{eqnarray}\n",
    "e^{i\\gamma\\hat{H}} = \\sum_{n=0}^{\\infty} \\frac{({i\\gamma\\hat{H}})^n}{n!} = \\mathbb{I}+i\\gamma \\hat{H}+\\frac{(i\\gamma \\hat{H})^2}{2}+\\frac{(i\\gamma \\hat{H})^3}{3!}+\\cdots +\\frac{(i\\gamma \\hat{H})^n}{n!}.\n",
    "\\end{eqnarray}\n",
    "\n",
    "So that for $\\gamma=-t/\\hbar$:\n",
    "\n",
    "\\begin{eqnarray}\n",
    "\\frac{d}{dt} (e^{-i\\hat{H}t / \\hbar})&=&\\frac{d}{dt} \\left( \\mathbb{I} - i\\hat{H}t/\\hbar - \\frac{\\hat{H}^2 t^2}{2\\hbar^2}  + \\cdots + \\frac{(-i\\hat{H}t)^n}{n!\\hbar^n}\\right)  \\\\\n",
    "&=& \\left(0 -i\\hat{H}/\\hbar - \\frac{\\hat{H}^2t}{\\hbar^2} + \\cdots + \\frac{n(-i\\hat{H})^nt^{n-1}}{n!\\hbar^n}\\right), \\\\\n",
    "&=&  \\frac{-i}{\\hbar}\\hat{H} \\left(\\mathbb{I} - \\frac{i\\hat{H}t}{\\hbar} + \\cdots + \\frac{(-i\\hat{H})^{n-1}t^{n-1}}{(n-1)!\\hbar^{n-1}}\\right), \\text{ defining } k \\equiv n-1\\\\\n",
    "\\\\\n",
    "&=&  \\frac{-i}{\\hbar}\\hat{H} \\left(\\mathbb{I} - \\frac{i\\hat{H}t}{\\hbar} + \\cdots + \\frac{(-i\\hat{H}t)^{k}}{k!\\hbar^{k}}\\right)\\\\\n",
    "&=& \\frac{-i}{\\hbar}\\hat{H}e^{-i\\hat{H}t / \\hbar},\n",
    "\\end{eqnarray}\n",
    "\n",
    "where it was used: $\\frac{n}{n!}=\\frac{n}{n(n-1)!}=\\frac{1}{(n-1)!}$."
   ]
  },
  {
   "cell_type": "markdown",
   "id": "6d023e64",
   "metadata": {},
   "source": [
    "Note that for $\\hat{H}=\\sum_{j}^n \\hat{H}_j$, in general, $[\\hat{H}_j, \\hat{H}_k] \\neq 0$, and thus $e^{-i\\hat{H} \\cdot t} \\neq \\prod_j e^{-i\\hat{H}_j \\cdot t}$. That is to say:\n",
    "\n",
    "$$e^{-i\\hat{H}t} = e^{-i\\hat{H}_1\\cdot t} \\cdot e^{-i\\hat{H}_2\\cdot t} \\cdots e^{-i\\hat{H}_n\\cdot t} \\text{ iff } [\\hat{H}_j, \\hat{H}_k]=0.$$"
   ]
  },
  {
   "cell_type": "markdown",
   "id": "f1b4afcb",
   "metadata": {},
   "source": [
    "Another way of looking at the problem of solving differential equations is to consider the first order approximation (see Ref. [1], Sec. 4.7.2):\n",
    "\n",
    "\\begin{eqnarray}\n",
    "|\\psi(t+\\Delta t)\\rangle &\\approx& |\\psi(t)\\rangle + \\Delta t \\frac{d}{dt} |\\psi(t)\\rangle\\\\\n",
    "&=& (\\mathbb{I}-\\frac{i}{\\hbar}\\hat{H}\\Delta t)|\\psi(t)\\rangle.\n",
    "\\end{eqnarray} \n",
    "\n",
    "The approximation to high order can be obtained considering small time evolutions ($t<<1$):\n",
    "\n",
    "\\begin{eqnarray}\n",
    "|\\psi(t)\\rangle &\\approx& (\\mathbb{I}-\\frac{i}{\\hbar}\\hat{H} t)|\\psi(0)\\rangle \\\\\n",
    "&=& (\\mathbb{I}-\\frac{i t}{2\\hbar}\\hat{H} )(\\mathbb{I}-\\frac{it}{2\\hbar}\\hat{H})|\\psi(0)\\rangle.\n",
    "\\end{eqnarray} \n",
    "\n",
    "Such that \n",
    "\\begin{eqnarray}\n",
    "|\\psi(t)\\rangle &=& lim_{N\\rightarrow \\infty} (\\mathbb{I}-\\frac{it}{N\\hbar}\\hat{H})^N|\\psi(0)\\rangle \\\\ \n",
    "&=& e^{-i\\hat{H}t/\\hbar} |\\psi(0)\\rangle.\n",
    "\\end{eqnarray} \n",
    "\n",
    "Where it was used: $e^{\\hat{A}} = lim_{N\\rightarrow \\infty} (\\mathbb{I}+ \\frac{\\hat{A}}{N})^N$."
   ]
  },
  {
   "cell_type": "markdown",
   "id": "c31df2c5",
   "metadata": {},
   "source": [
    "# Density Matrix Formalism"
   ]
  },
  {
   "cell_type": "markdown",
   "id": "2a643377",
   "metadata": {},
   "source": [
    "In the **density operator formalism**, the initial state of the system is described by a density operator $\\rho_0=\\sum_j p_j |\\psi_{j,t} \\rangle \\langle \\psi_{j,t}|$.\n",
    "\n",
    "If the Hamiltonian $\\hat{H}$ of the system is time-independent, the initial state evolves over time according to:\n",
    "\n",
    "\\begin{align}\n",
    "    \\rho_t &= \\sum_j  p_j \\big(\\hat{U}_t|\\psi_{j,t} \\rangle \\big) \\big(\\langle \\psi_{j,t}|\\hat{U}_t^{\\dagger} \\big) \\\\\n",
    "    &= \\hat{U}_t \\Big(\\sum_j  p_j|\\psi_{j,t} \\rangle\\langle \\psi_{j,t}|\\Big)\\hat{U}_t^{\\dagger} \\\\\n",
    "    &=\\hat{U}_t\\rho_0\\hat{U}_t^{\\dagger},\n",
    "\\end{align}\n",
    "\n",
    "In this case, the unitary operator is $\\hat{U}=e^{\\frac{-i\\hat{H}t}{\\hbar}}$.\n",
    "    \n",
    "For a time-dependent Hamiltonian, the continuous time evolution is given by the Von Neumann (a.k.a Liouville–von Neumann) equation:\n",
    "\n",
    "\\begin{align}\n",
    "    \\frac{\\partial\\rho}{\\partial t}&=\\frac{\\partial}{\\partial t}\\left(\\sum_j p_j |\\psi_{j,t}\\rangle \\langle \\psi_{j,t} |\\right) \\\\\n",
    "    &=\\sum_j p_j \\Bigg\\{ \\left( \\frac{\\partial}{\\partial t}|\\psi_{j,t}\\rangle \\right)\\langle\\psi_{j,t}| + |\\psi_{j,t}\\rangle \\left(\\frac{\\partial}{\\partial t} \\langle\\psi_{j,t}|\\right)  \\Bigg\\} \\\\\n",
    "    &=\\sum_j p_j \\left\\{ \\frac{\\hat{H}}{i\\hbar}  |\\psi_{j,t}\\rangle \\langle \\psi_{j,t} |  -  |\\psi_{j,t}\\rangle \\langle \\psi_{j,t} | \\frac{\\hat{H}}{i\\hbar}  \\right\\} \\\\\n",
    "    &= \\frac{1}{i\\hbar}\\left[ \\hat{H}, \\rho \\right],\n",
    "\\end{align}\n",
    "\n",
    "where it was used the Sch. equation SH2."
   ]
  },
  {
   "cell_type": "markdown",
   "id": "b9fe8c21",
   "metadata": {},
   "source": [
    "# &nbsp; <a href=\"#\"><img valign=\"middle\" height=\"45px\" src=\"https://img.icons8.com/book\" width=\"45\" hspace=\"0px\" vspace=\"0px\"></a> References"
   ]
  },
  {
   "cell_type": "markdown",
   "id": "654a5bf3",
   "metadata": {},
   "source": [
    "[1] [Introduction to Quantum Mechanics: Griffiths, David J.](https://www.fisica.net/mecanica-quantica/Griffiths%20-%20Introduction%20to%20quantum%20mechanics.pdf).\n",
    "\n",
    "[2] Nielsen MA, Chuang IL. 2010. Quantum Computation and Quantum Information. New York: [Cambridge Univ. Press.](https://doi.org/10.1017/CBO9780511976667) 10th Anniv. Ed.\n",
    "\n",
    "[3] M. M. Wilde, Quantum information theory (Cambridge University Press, 2013)."
   ]
  },
  {
   "cell_type": "code",
   "execution_count": null,
   "id": "6ab43b99",
   "metadata": {},
   "outputs": [],
   "source": []
  }
 ],
 "metadata": {
  "kernelspec": {
   "display_name": "Python 3 (ipykernel)",
   "language": "python",
   "name": "python3"
  },
  "language_info": {
   "codemirror_mode": {
    "name": "ipython",
    "version": 3
   },
   "file_extension": ".py",
   "mimetype": "text/x-python",
   "name": "python",
   "nbconvert_exporter": "python",
   "pygments_lexer": "ipython3",
   "version": "3.9.13"
  }
 },
 "nbformat": 4,
 "nbformat_minor": 5
}
