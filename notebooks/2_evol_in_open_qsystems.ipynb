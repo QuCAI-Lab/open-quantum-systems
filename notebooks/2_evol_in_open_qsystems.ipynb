{
 "cells": [
  {
   "cell_type": "markdown",
   "id": "d6a0754e",
   "metadata": {},
   "source": [
    "<!-- Title: -->\n",
    "<div align=\"center\">\n",
    "  <h1><b> Evolution in Open Quantum Systems </b></h1>\n",
    "  <h3> Crash Course - Open Quantum Systems </h3>\n",
    "</div>\n",
    "\n",
    "<br>\n",
    "<b>Author:</b> <a target=\"_blank\" href=\"https://github.com/camponogaraviera\">Lucas Camponogara Viera</a>"
   ]
  },
  {
   "cell_type": "markdown",
   "id": "4381e988",
   "metadata": {},
   "source": [
    "<div align='center'>\n",
    "<table class=\"tfo-notebook-buttons\" align=\"head\">\n",
    "  <td>\n",
    "    <a target=\"_blank\" href=\"https://github.com/QuCAI-Lab\"><img src=\"https://www.tensorflow.org/images/GitHub-Mark-32px.png\" /></a>\n",
    "  </td>\n",
    "</table>\n",
    "</div>"
   ]
  },
  {
   "cell_type": "code",
   "execution_count": 1,
   "id": "5c0b5d7f",
   "metadata": {},
   "outputs": [
    {
     "data": {
      "application/javascript": [
       "IPython.notebook.set_autosave_interval(30000)"
      ]
     },
     "metadata": {},
     "output_type": "display_data"
    },
    {
     "name": "stdout",
     "output_type": "stream",
     "text": [
      "Autosaving every 30 seconds\n"
     ]
    }
   ],
   "source": [
    "%autosave 30"
   ]
  },
  {
   "cell_type": "markdown",
   "id": "c825dad6",
   "metadata": {},
   "source": [
    "# Table of Contents\n",
    "\n",
    "- [Evolution in Open Quantum Systems.](#open)\n",
    "    - Unitary Representation.\n",
    "    - Stinespring Representation.\n",
    "    - Kraus Representation a.k.a Axiomatic Approach.\n",
    "    - Lindblad Master Equation Approach."
   ]
  },
  {
   "cell_type": "markdown",
   "id": "8336b0bc",
   "metadata": {},
   "source": [
    "# Evolution in Open Quantum Systems<a name=\"open\" /> "
   ]
  },
  {
   "cell_type": "markdown",
   "id": "b364413e",
   "metadata": {},
   "source": [
    "In this section we focus on open quantum systems, i.e, quantum systems interacting with their environment. An open quantum system can be divided into two subsystems: the system of interest, and the environment. \n",
    "\n",
    "The Schrödinger equation is not applicable for open quantum systems. Nevertheless, the `density matrix formalism` and the `Lindblad master equation` provide a powerful and widely used framework for studying the dynamics of interaction. \n",
    "\n",
    "Why density matrices?\n",
    "\n",
    "In noisy quantum systems, **incoherent noise** creates a mixed state, i.e, a probability distribution over pure states. Although a mixed state (see Ref. [1]) consists of an ensemble (statistical mixture) of $N$ pure states ($\\{p_j, |\\psi_j\\rangle\\}_{j=1}^n$), a mixed state cannot be represented by a linear combination of the aforementioned normalized state vectors (pure states) that are defined on a separable Hilbert Space. Therefore, the evolved mixed state must be represented by a [mixed density operator](https://qiskit.org/textbook/ch-quantum-hardware/density-matrix.html#:~:text=corrupted) rather than a statevector."
   ]
  },
  {
   "cell_type": "markdown",
   "id": "e6576f3a",
   "metadata": {},
   "source": [
    "The dynamics of the interaction is often described by a quantum channel. A quantum channel is a linear, completely positive, and trace-preserving (CPTP) map describing a probability distribution over possible transformations on a quantum state. \"A quantum channel can be considered as a unitary transformation acting on the total Hilbert space that includes both the system and environment degrees of freedom.\""
   ]
  },
  {
   "cell_type": "markdown",
   "id": "e411379e",
   "metadata": {},
   "source": [
    "Outlined below are some of the frameworks that will be covered:\n",
    "\n",
    "1) **Unitary Representation:** used when there is `enough information` about the Environment and the Hamiltonian of interaction.\n",
    "\n",
    "2) **[Stinespring Representation](https://qiskit.org/documentation/stubs/qiskit.quantum_info.Stinespring.html):** equivalent to the unitary representation.\n",
    "\n",
    "3) **Kraus Representation a.k.a Axiomatic Approach:** used when there is `no information` about the Environment or the Hamiltonian of interaction.\n",
    "\n",
    "4) **Lindblad Master Equation Approach:** used when there is `partial information` about the Environment and the Hamiltonian of interaction."
   ]
  },
  {
   "cell_type": "markdown",
   "id": "8cb2b769",
   "metadata": {},
   "source": [
    "Cheat sheet:\n",
    "\n",
    "- 1) The evolution of the global state of a system, either pure state or mixed state, is always described by a unitary operation.\n",
    "\n",
    "- 2) The evolution of the reduced states of a separable state is always described by a unitary operator.\n",
    "\n",
    "- 3) The subsystem of a mixed state, after tracing out the environment, has a non-unitary evolution.\n",
    "\n",
    "- 4) Maximally mixed states of a pure entangled state have non-unitary evolution."
   ]
  },
  {
   "cell_type": "markdown",
   "id": "d92a9986",
   "metadata": {},
   "source": [
    "## Unitary Representation\n",
    "\n",
    "- Knowing the Environment and the Hamiltonian of interaction."
   ]
  },
  {
   "cell_type": "markdown",
   "id": "edd0244e",
   "metadata": {},
   "source": [
    "When there is enough information to describe the degrees of freedom of the environment and the Hamiltonian of the interaction between the environment and the system of interest, one can use the following description for the system dynamics in the density operator formalism:\n",
    "\n",
    "$$\\rho_s(0) \\rightarrow \\rho_s(t)= Tr_{env} \\Bigg[U_{SE}(t) \\Bigg(\\rho_s(0) \\otimes \\rho_{env} \\Bigg) U_{SE}^{\\dagger}(t) \\Bigg],$$\n",
    "\n",
    "One can see from this equation that the system of interest ($\\rho_s (t)$) can be isolated after tracing out the environment from the global state of the system.\n",
    "\n",
    "Legend:\n",
    "\n",
    "- $\\rho_s(0)$ is the density matrix that represents the inital (often composite) state of the system.\n",
    "- $\\rho_{env} \\equiv |00\\cdots 0\\rangle\\langle 00\\cdots 0|$ is the density matrix that represents the inital (often composite) state of the environment.\n",
    "- $U_{SE}(t)$ is the unitary matrix that describes the joint evolution of the system and its environment."
   ]
  },
  {
   "cell_type": "markdown",
   "id": "dc247504",
   "metadata": {},
   "source": [
    "## Kraus Representation a.k.a Axiomatic Approach"
   ]
  },
  {
   "cell_type": "markdown",
   "id": "2c12c4f8",
   "metadata": {},
   "source": [
    "When there is no information about the Environment and the Hamiltonian of interaction, one uses only the **final and initial state** of the system to describe its dynamics according to the following CPTP map:\n",
    "\n",
    "$$\\Phi_t:\\rho_s \\rightarrow \\rho_s(t) = \\Phi_t(\\rho_s).$$\n",
    "\n",
    "Above equation is voiced: \"A completely positive and trace preserving (CPTP) map $\\Phi(t)$, evolves the initial density matrix $\\rho_s \\equiv \\rho_s(0)$ to a final density matrix $\\rho_s(t).$\""
   ]
  },
  {
   "cell_type": "markdown",
   "id": "4c9d3191",
   "metadata": {},
   "source": [
    "Since $\\Phi_t$ is a map between density operators, it needs to be positive and trace-preserving to preserve the positivity ($\\langle\\psi| \\rho |\\psi\\rangle \\geq 0$) and unit trace ($Tr (\\rho) = 1$) property of density operators, respectively. \n",
    "\n",
    "Furthermore, suppose the system of interest is initially correlated with an unknown environment, then $\\Phi_t$ has to be completely positive to ensure that the final state is a density matrix. Hence, if $(\\Phi_t \\otimes \\mathbb{I})$ is positive, then $\\Phi_t$ is completely positive.\n",
    "\n",
    "When the ancillae (environment) is **originally uncorrelated** with the system of interest, the evolution can be described using Kraus operators:\n",
    "\n",
    "$$\\Phi_t(\\rho_s)= \\sum_{j=1}^k  K_j \\rho_s K^{\\dagger}_j.$$\n",
    "\n",
    "where $K_i$ is the i-th Kraus operator. They satisfy:\n",
    "\n",
    "$$ \\sum_{j=1}^k K^{\\dagger}_j K_j  = \\mathbb{I}.$$\n",
    "\n",
    "**Not all Kraus operators are represented by unitary matrices** that describe unitary evolution by quantum gates. In open quantum systems, non-unitary Kraus operators provide a more general description of the system-environment interaction. However, if a system has only one Kraus operator, then this Kraus operator is a unitary operator. In this case, one has \n",
    "\n",
    "$$\\sum_{j=1}^{n=1}K_j^{\\dagger}K_j = K_1^{\\dagger}K_1 = K_1K_1^{\\dagger} = \\mathbb{I}.$$ \n",
    "\n",
    "The above Kraus operators can be found via **quantum process tomography**.\n",
    "\n",
    "**Recall:**\n",
    "\n",
    "- **Quantum State Tomography (QST)**: used to reconstruct an unknown quantum state by performing measurements in different bases.\n",
    "- **Quantum Process Tomography (QPT)**: used to reconstruct an unknown quantum operation (i.e., CPTP map) by passing known input states through a black box (said operation) and performing tomography on the output states."
   ]
  },
  {
   "cell_type": "markdown",
   "id": "f4238905",
   "metadata": {},
   "source": [
    "**Thought experiment (a.k.a gedanken):**\n",
    "\n",
    "Consider a system of interest interacting with the environment. It is possible to create entanglement even if the two systems are **initially uncorrelated** and there is coherence in one of them. \n",
    "\n",
    "One example is when a quantum system starts in a coherent state (a 1-qubit state) and the environment starts in a classical state (say $|0\\rangle$). In this case, there is no initial correlation between the system and the environment, however, a bell state (maximally entangled state) can be created by applying a CNOT gate between the control qubit in superposition state and the target qubit in the classical state."
   ]
  },
  {
   "cell_type": "markdown",
   "id": "c686c4e6",
   "metadata": {},
   "source": [
    "## Master Equation Approach"
   ]
  },
  {
   "cell_type": "markdown",
   "id": "7655cf3f",
   "metadata": {},
   "source": [
    "When there is **partial knowledge** about the environment and the interaction betwenn the system and the environment, the following approximations can be made:\n",
    "\n",
    "- $H = H_s \\otimes \\mathbb{I}_{env}+\\mathbb{I}_s \\otimes H_{env}+H_{int}$.\n",
    "- If the interaction between the system and the environment is weak: use **Born approximation**.\n",
    "- Suppose there is correlation between particles in the environment. If those correlations occur within a short time window (they can be neglected): use **Markov approximation**. \n",
    "\n",
    "With the above approximations, the dynamics of the system is given by the following master equation in the **Lindblad form**:\n",
    "\n",
    "$$\\frac{d\\rho_s}{dt} = \\underbrace{-i[H_s, \\rho_s]}_\\text{Unitary Evolution} + \\underbrace{\\sum_{j} \\gamma_j \\Bigg(L_j \\rho_s L^{\\dagger}_j + \\frac{1}{2} \\{L^{\\dagger}_j L_j, \\rho_s \\} \\Bigg)}_\\text{Dissipative Evolution}.$$\n",
    "\n",
    "Legend:\n",
    "\n",
    "- $H$ is the Hamiltonian of the system.\n",
    "- $\\rho_s$ is the density operator of the system.\n",
    "- $\\gamma_j \\geq 0$ is a positive rate.\n",
    "- $L_j$ is the $j$-th Lindblad operator that describes the coupling of the system to its environment."
   ]
  },
  {
   "cell_type": "markdown",
   "id": "adc050c1",
   "metadata": {},
   "source": [
    "**Note:** in general, the dynamics of the interaction between a system of interest and the environment in open quantum systems is ruled by a **Non-Markov process**. In a non-Markov process, the dynamics has a non-monotonic decay of information, i.e, the information decreases over a period of time, but then starts to increase again. One can see this process of information recovery (memory effect) using a quantum quantifier such as entanglement ([see this figure](https://journals.aps.org/prl/article/10.1103/PhysRevLett.105.050403/figures/1/medium))."
   ]
  },
  {
   "cell_type": "markdown",
   "id": "e333dcab",
   "metadata": {},
   "source": [
    "**Markov process**\n",
    "\n",
    "Let $S \\equiv \\{x(t)\\}$ denote a countable set of possible outcomes of a discrete random variable $x$ that assumes a value $x_n$ in time $t_n$. A discrete-time stochastic process conditioned to $x$ is known to be a [Markov chain](https://en.wikipedia.org/wiki/Markov_chain#Formal_definition) if the [conditional probabilities](https://en.wikipedia.org/wiki/Conditional_probability#Example) satisfy the following Markov property:\n",
    "\n",
    "\\begin{eqnarray}\n",
    "p(x_{n+1} | x_{n} \\cdots x_0) &=& p(x_{n+1}|x_{n}) \\\\\n",
    "p(x_n) &=& \\sum_{x_n-1} p(x_n | x_{n-1}) p(x_{n-1}).\n",
    "\\end{eqnarray}\n",
    "\n",
    "The above equation is voiced: \"The probability of obtaining the future outcome $x_{n+1}$ given the past is equal to the probability of obtaining the same future outcome $x_{n+1}$ given the present outcome $x_{n}$.\" This is known as the Markov property, and it can be rephrased as: given the present, the future does not depend on the past."
   ]
  },
  {
   "cell_type": "markdown",
   "id": "7e2b7bda",
   "metadata": {},
   "source": [
    "When the CPTP map is divisible, i.e:\n",
    "\n",
    "$$\\underbrace{\\Phi_{t,0}}_\\text{from 0 to t}  =  \\underbrace{\\Phi_{t,s}}_\\text{from s to t }  \\underbrace{\\Phi_{s,0}}_\\text{ from 0 to s} , \\; \\forall t \\geq s \\geq 0,$$\n",
    "\n",
    "it is equivalent to the master equation in the Lindblad form within the Markov approximation."
   ]
  },
  {
   "cell_type": "markdown",
   "id": "a10a2ca4",
   "metadata": {},
   "source": [
    "# &nbsp; <a href=\"#\"><img valign=\"middle\" height=\"45px\" src=\"https://img.icons8.com/book\" width=\"45\" hspace=\"0px\" vspace=\"0px\"></a> References"
   ]
  },
  {
   "cell_type": "markdown",
   "id": "1baeace6",
   "metadata": {},
   "source": [
    "[1] Nielsen MA, Chuang IL. 2010. Quantum Computation and Quantum Information. New York: [Cambridge Univ. Press.](https://doi.org/10.1017/CBO9780511976667) 10th Anniv. Ed. \n",
    "- Chapter 8: Quantum noise and quantum operations."
   ]
  },
  {
   "cell_type": "code",
   "execution_count": null,
   "id": "0d8dc21a",
   "metadata": {},
   "outputs": [],
   "source": []
  }
 ],
 "metadata": {
  "kernelspec": {
   "display_name": "Python 3 (ipykernel)",
   "language": "python",
   "name": "python3"
  },
  "language_info": {
   "codemirror_mode": {
    "name": "ipython",
    "version": 3
   },
   "file_extension": ".py",
   "mimetype": "text/x-python",
   "name": "python",
   "nbconvert_exporter": "python",
   "pygments_lexer": "ipython3",
   "version": "3.9.13"
  }
 },
 "nbformat": 4,
 "nbformat_minor": 5
}
