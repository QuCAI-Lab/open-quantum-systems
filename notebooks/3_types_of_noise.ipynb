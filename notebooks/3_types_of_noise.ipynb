{
 "cells": [
  {
   "cell_type": "markdown",
   "id": "d6a0754e",
   "metadata": {},
   "source": [
    "<!-- Title: -->\n",
    "<div align=\"center\">\n",
    "  <h1><b> Types of Noise </b></h1>\n",
    "  <h3> Crash Course - Open Quantum Systems </h3>\n",
    "</div>\n",
    "\n",
    "<br>\n",
    "<b>Author:</b> <a target=\"_blank\" href=\"https://github.com/camponogaraviera\">Lucas Camponogara Viera</a>"
   ]
  },
  {
   "cell_type": "markdown",
   "id": "4381e988",
   "metadata": {},
   "source": [
    "<div align='center'>\n",
    "<table class=\"tfo-notebook-buttons\" align=\"head\">\n",
    "  <td>\n",
    "    <a target=\"_blank\" href=\"https://github.com/QuCAI-Lab\"><img src=\"https://www.tensorflow.org/images/GitHub-Mark-32px.png\" /></a>\n",
    "  </td>\n",
    "</table>\n",
    "</div>"
   ]
  },
  {
   "cell_type": "code",
   "execution_count": 1,
   "id": "5c0b5d7f",
   "metadata": {},
   "outputs": [
    {
     "data": {
      "application/javascript": [
       "IPython.notebook.set_autosave_interval(30000)"
      ]
     },
     "metadata": {},
     "output_type": "display_data"
    },
    {
     "name": "stdout",
     "output_type": "stream",
     "text": [
      "Autosaving every 30 seconds\n"
     ]
    }
   ],
   "source": [
    "%autosave 30"
   ]
  },
  {
   "cell_type": "markdown",
   "id": "c825dad6",
   "metadata": {},
   "source": [
    "# Table of Contents\n",
    "\n",
    "- [Types of noise](#types)\n",
    "    - Projection noise.\n",
    "    - Measurement noise.\n",
    "    - Coherent noise.\n",
    "    - Incoherent noise."
   ]
  },
  {
   "cell_type": "markdown",
   "id": "fce4595d",
   "metadata": {},
   "source": [
    "# Types of noise<a name=\"types\" /> "
   ]
  },
  {
   "cell_type": "markdown",
   "id": "0fd1f690",
   "metadata": {},
   "source": [
    "For Qiskit implementations, resort to the [Lab3 solutions of Qiskit Global Summer School 2022](https://github.com/QuCAI-Lab/qiskit2022-global-summer-school/blob/dev/solution_lab3.ipynb). \n",
    "\n",
    "- **Projection noise:** noise due to `sampling`, i.e, the probability of observing an eigenstate of a superposition state changes with the `number of measurements` (shots). The probability tends to the theoretical value as the number of shots goes to infinity.\n",
    "<br>\n",
    "\n",
    "- **Measurement noise:** a.k.a State Preparation And Measurement (SPAM) error. Is the `misclassification` of measuring state $|0\\rangle$ when state $|1\\rangle$ was prepared. **Mitigation:** One can then multiply the inverse of the confusion matrix by the noisy probabilities to mitigate the results of the noisy experiment: $\\text{p_ideal} = A^{-1}\\text{p_noisy}$.\n",
    "<br>\n",
    "\n",
    "- **Coherent noise:** is the result of `miscalibration`, when a rotation by $\\theta$ turns into $\\theta+\\epsilon$.\n",
    "<br>\n",
    "\n",
    "- **Incoherent noise:** is the noise that arises from `decoherence` or `imperfect control`. Examples: depolarizing noise channel.\n",
    "\n",
    "**Note:** Recall that coherent noise is described by unitary operations, while incoherent noise generates mixed states that are always random, regardless of the basis in which they are measured."
   ]
  },
  {
   "cell_type": "markdown",
   "id": "b688cee0",
   "metadata": {},
   "source": [
    "# &nbsp; <a href=\"#\"><img valign=\"middle\" height=\"45px\" src=\"https://img.icons8.com/book\" width=\"45\" hspace=\"0px\" vspace=\"0px\"></a> References"
   ]
  },
  {
   "cell_type": "markdown",
   "id": "e35be66f",
   "metadata": {},
   "source": [
    "[1] [Qiskit Global Summer School 2022](https://github.com/QuCAI-Lab/qiskit2022-global-summer-school)."
   ]
  },
  {
   "cell_type": "code",
   "execution_count": null,
   "id": "810491bb",
   "metadata": {},
   "outputs": [],
   "source": []
  }
 ],
 "metadata": {
  "kernelspec": {
   "display_name": "Python 3 (ipykernel)",
   "language": "python",
   "name": "python3"
  },
  "language_info": {
   "codemirror_mode": {
    "name": "ipython",
    "version": 3
   },
   "file_extension": ".py",
   "mimetype": "text/x-python",
   "name": "python",
   "nbconvert_exporter": "python",
   "pygments_lexer": "ipython3",
   "version": "3.9.13"
  }
 },
 "nbformat": 4,
 "nbformat_minor": 5
}
