{
 "cells": [
  {
   "cell_type": "markdown",
   "id": "d6a0754e",
   "metadata": {},
   "source": [
    "<!-- Title: -->\n",
    "<div align=\"center\">\n",
    "  <h1><b> Quantum Channels with Qiskit </b></h1>\n",
    "  <h3> Crash Course - Open Quantum Systems </h3>\n",
    "</div>\n",
    "\n",
    "<br>\n",
    "<b>Author:</b> <a target=\"_blank\" href=\"https://github.com/camponogaraviera\">Lucas Camponogara Viera</a>"
   ]
  },
  {
   "cell_type": "markdown",
   "id": "4381e988",
   "metadata": {},
   "source": [
    "<div align='center'>\n",
    "<table class=\"tfo-notebook-buttons\" align=\"head\">\n",
    "  <td>\n",
    "    <a target=\"_blank\" href=\"https://github.com/QuCAI-Lab\"><img src=\"https://www.tensorflow.org/images/GitHub-Mark-32px.png\" /></a>\n",
    "  </td>\n",
    "</table>\n",
    "</div>"
   ]
  },
  {
   "cell_type": "code",
   "execution_count": 1,
   "id": "5c0b5d7f",
   "metadata": {},
   "outputs": [
    {
     "data": {
      "application/javascript": [
       "IPython.notebook.set_autosave_interval(30000)"
      ]
     },
     "metadata": {},
     "output_type": "display_data"
    },
    {
     "name": "stdout",
     "output_type": "stream",
     "text": [
      "Autosaving every 30 seconds\n"
     ]
    }
   ],
   "source": [
    "%autosave 30"
   ]
  },
  {
   "cell_type": "markdown",
   "id": "c825dad6",
   "metadata": {},
   "source": [
    "# Table of Contents\n",
    "\n",
    "- [Quantum Channels with Qiskit](#channels)\n",
    "    - [Coherent error channel.](#coherent)\n",
    "    - [Depolarizing error channel.](#depolarizing) \n",
    "    - [Amplitude damping channel.](#amp)\n",
    "    - [Phase damping channel.](#pdamp)\n",
    "    - [Phase-amplitude damping error channel.](#phaseamplitude)\n",
    "    - [Kraus error channel.](#kraus) "
   ]
  },
  {
   "cell_type": "markdown",
   "id": "bbbf2401",
   "metadata": {},
   "source": [
    "# &nbsp; <a href=\"#\"><img valign=\"middle\" height=\"45px\" src=\"https://img.icons8.com/python\" width=\"45\" hspace=\"0px\" vspace=\"0px\"></a> Importing dependencies"
   ]
  },
  {
   "cell_type": "code",
   "execution_count": null,
   "id": "f65874d3",
   "metadata": {},
   "outputs": [],
   "source": [
    "from math import exp, pi, sqrt\n",
    "\n",
    "from qiskit.circuit.library import RXGate\n",
    "from qiskit.providers.aer.noise import NoiseModel, ReadoutError, coherent_unitary_error, depolarizing_error\n",
    "\n",
    "from qiskit.providers.aer.noise.errors.standard_errors import depolarizing_error, \\\n",
    "                                                              phase_amplitude_damping_error, \\\n",
    "                                                              kraus_error"
   ]
  },
  {
   "cell_type": "markdown",
   "id": "c31084b6",
   "metadata": {},
   "source": [
    "# Quantum Channels with Qiskit<a name=\"channels\" /> "
   ]
  },
  {
   "cell_type": "markdown",
   "id": "d7fce713",
   "metadata": {},
   "source": [
    "## [Coherent error channel](https://qiskit.org/ecosystem/aer/stubs/qiskit_aer.noise.coherent_unitary_error.html)<a name=\"coherent\" /> "
   ]
  },
  {
   "cell_type": "markdown",
   "id": "a9f4206a",
   "metadata": {},
   "source": [
    "**Example:** adding an $\\epsilon$ over rotation to an RXGate on the first qubit:"
   ]
  },
  {
   "cell_type": "code",
   "execution_count": 3,
   "id": "142661b9",
   "metadata": {},
   "outputs": [],
   "source": [
    "# Parameters:\n",
    "epsilon = pi/5 # Over rotation amount.\n",
    "epsilon_rotation = RXGate(epsilon).to_matrix() # Get matrix representation.\n",
    "\n",
    "# Create coherent error channel:\n",
    "error = coherent_unitary_error(epsilon_rotation)\n",
    "\n",
    "# Adding error to noise model on the rx gate for a single qubit:\n",
    "noise_model = NoiseModel()\n",
    "noise_model.add_quantum_error(error, ['rx'], qubits = [0])"
   ]
  },
  {
   "cell_type": "markdown",
   "id": "aa9bb2c9",
   "metadata": {},
   "source": [
    "Alternative, adding to a list of gates for all qubits:"
   ]
  },
  {
   "cell_type": "code",
   "execution_count": 4,
   "id": "a40d1ec0",
   "metadata": {},
   "outputs": [],
   "source": [
    "# Adding error to noise model on a list of gates for all qubits:\n",
    "\n",
    "instructions = ['id', 'x', 'y', 'z', 'rx', 'ry', 'rz'] # 'id' is the idle (identity) gate as placeholder.\n",
    "noise_model = NoiseModel()\n",
    "noise_model.add_all_qubit_quantum_error(error, instructions)"
   ]
  },
  {
   "cell_type": "markdown",
   "id": "76123310",
   "metadata": {},
   "source": [
    "## [Depolarizing error channel](https://qiskit.org/documentation/stable/0.19/stubs/qiskit.providers.aer.noise.depolarizing_error.html#depolarizing-error)<a name=\"depolarizing\" /> "
   ]
  },
  {
   "cell_type": "markdown",
   "id": "90f377e0",
   "metadata": {},
   "source": [
    "The depolarizing error is the simplest model of `incoherent noise` arising from `decoherence` or `imperfect control`. \n",
    "\n",
    "The depolarizing quantum error channel action on a density matrix (state) $\\rho$ is defined as:\n",
    "\n",
    "$$E(\\rho) = (1-\\lambda)\\rho + \\lambda Tr[\\rho]\\frac{I}{2^n}.$$\n",
    "\n",
    "**Meaning:** transforms a pure state $\\rho$ into a mixed state with some probability $\\lambda$.\n",
    "\n",
    "- Parameters:\n",
    "\n",
    "    - $\\frac{I}{2^n}$: is the a completely mixed state.\n",
    "    - $\\lambda$: is the depolarizing error parameter. Represents the probability of a bit-flip or phase-flip error occurring on each qubit in the circuit.\n",
    "    - $n$: number of qubits for the error channel."
   ]
  },
  {
   "cell_type": "markdown",
   "id": "1138f902",
   "metadata": {},
   "source": [
    "**Example:** adding a depolarizing error to an idle (identity) gate on the first qubit:"
   ]
  },
  {
   "cell_type": "code",
   "execution_count": 5,
   "id": "561d7f93",
   "metadata": {},
   "outputs": [],
   "source": [
    "# Creating a depolarizing noise model with probability lambda_= 0.01 for a single qubit.\n",
    "\n",
    "# Parameters:\n",
    "lambda_ = 0.01 # Error parameter of 1%.\n",
    "num_qubits = 1\n",
    "\n",
    "# Create depolarizing error channel:\n",
    "error = depolarizing_error(lambda_, num_qubits)\n",
    "\n",
    "# Adding error to noise model on a list of gates for a single qubit:\n",
    "noise_model = NoiseModel()\n",
    "noise_model.add_quantum_error(error, ['id'], qubits = [0]) "
   ]
  },
  {
   "cell_type": "markdown",
   "id": "d3f4b251",
   "metadata": {},
   "source": [
    "Alternative, adding to a list of gates for all qubits:"
   ]
  },
  {
   "cell_type": "code",
   "execution_count": 6,
   "id": "053db005",
   "metadata": {},
   "outputs": [],
   "source": [
    "# Adding error to noise model on a list of gates for all qubits:\n",
    "\n",
    "instructions = ['id', 'x', 'y', 'z', 'rx', 'ry', 'rz'] # 'id' is the idle (identity) gate as placeholder.\n",
    "noise_model = NoiseModel()\n",
    "noise_model.add_all_qubit_quantum_error(error, instructions)"
   ]
  },
  {
   "cell_type": "markdown",
   "id": "2a1f68cb",
   "metadata": {},
   "source": [
    "## [Amplitude damping channel](https://qiskit.org/ecosystem/aer/stubs/qiskit_aer.noise.amplitude_damping_error.html#qiskit_aer.noise.amplitude_damping_error) (longitudinal relaxation)<a name=\"amp\" /> "
   ]
  },
  {
   "cell_type": "markdown",
   "id": "0fda59f0",
   "metadata": {},
   "source": [
    "The amplitude damping channel describes the `loss of energy` from a quantum system (the qubit) due to its interaction with an environment. It models the `longitudinal relaxation` from the excited state $|1\\rangle$ to the ground state $|0\\rangle$ due to `transverse noise` that couples to the qubit in the $x$-$y$ plane [[4]](#). The physical process behind it is called `thermalization` and it is caused by incoherent energy exchange between qubit and environment [[5]](#).\n",
    "\n",
    "The amplitude damping quantum error channel action on a density matrix (state) $\\rho$ is defined by the following CPTP map:\n",
    "\n",
    "\\begin{eqnarray}\n",
    "\\mathcal{E}_{AD}(\\rho) = K_0 \\rho K_0^\\dagger + K_1 \\rho K_1^\\dagger,\n",
    "\\end{eqnarray}\n",
    "\n",
    "where $K_0$ and $K_1$ are Kraus operator satisfying $$K_0^\\dagger K_0 + K_1^\\dagger K_1 = \\mathbb{I}.$$\n",
    "\n",
    "For a 1-qubit (two dimensional) system (using Nielsen & Chuang's representation):\n",
    "\n",
    "\\begin{eqnarray}\n",
    "K_0 &=& \\begin{pmatrix} 1 & 0 \\\\ 0 & \\sqrt{1-\\Gamma_1} \\end{pmatrix}, \\quad\n",
    "K_1 &=& \\begin{pmatrix} 0 & \\sqrt{\\Gamma_1} \\\\ 0 & 0 \\end{pmatrix}\\\\\n",
    "\\Gamma_1 &=& \\frac{1}{T_1} = 1-e^{-t/T_1}.\n",
    "\\end{eqnarray}\n",
    "\n",
    "$$$$\n",
    "\n",
    "Parameters:\n",
    "\n",
    "- $K_0$: Kraus operator that leaves the $|0\\rangle$ state unchanged, but reduces the amplitude of the $|1\\rangle$.\n",
    "- $K_1$: Kraus operator that changes a $|1\\rangle$ state to a $|0\\rangle$ state. `Corresponds to the physical process of losing a quantum of energy to the environment.`\n",
    "- $\\Gamma_1$: is the amplitude damping error rate parameter. Can be thought of as the probability of losing a photon. \n",
    "    - No energy loss ($\\Gamma_1=0$).\n",
    "    - Complete energy loss ($\\Gamma_1=1$).\n",
    "- $T_1$: is the `longitudinal relaxation time` of the process (experimental fitting parameter). It is the time constant to `recover the longitudinal component of the Bloch vector` to its thermal equilibrium [[5]](#)."
   ]
  },
  {
   "cell_type": "markdown",
   "id": "355a46ca",
   "metadata": {},
   "source": [
    "For a general 1-qubit density matrix \n",
    "\n",
    "\\begin{eqnarray}\n",
    "\\rho = \\begin{pmatrix}\\rho_{00}&\\rho_{01}\\\\\\rho_{10}&\\rho_{11}\\end{pmatrix},\n",
    "\\end{eqnarray}\n",
    "\n",
    "the quantum channel reads\n",
    "\\begin{eqnarray}\n",
    "\\mathcal{E}_{AD}(\\rho) = \\begin{pmatrix}\\rho_{00}+\\Gamma_1 \\rho_{11} & \\sqrt{1-\\Gamma_1} \\rho_{01} \\\\ \\sqrt{1-\\Gamma_1} \\rho_{10} & (1-\\Gamma_1) \\rho_{11}\\end{pmatrix}.\n",
    "\\end{eqnarray}"
   ]
  },
  {
   "cell_type": "markdown",
   "id": "a552f9f2",
   "metadata": {},
   "source": [
    "The standard procedure to measure the `longitudinal relaxation time` $T_1$ of a qubit, i.e, the time it takes to decay from the excited state $|1\\rangle$ to the ground state $|0\\rangle$, is via [inversion recovery](https://learn.qiskit.org/course/quantum-hardware-pulses/calibrating-qubits-using-qiskit-pulse#T1) [[6]](#). A calibrated drive pulse ($\\pi$-pulse) is applied, followed by a time delay $\\Delta t$, and a readout pulse to measure the population of $|0\\rangle$ as a function of time. This procedure is repeated several times for a different time delay $\\Delta t$.\n",
    "\n",
    "The fitting function to measure $T_1$ reads:\n",
    "\n",
    "$$f(t) = \\alpha_0 + \\alpha_1 exp\\Big(\\frac{-t}{T_1}\\Big).$$\n",
    "\n",
    "Where \n",
    "\n",
    "- $t$ is the time interval between the drive and readout pulses [[5]](#). \n",
    "- $\\alpha_0$ (offset), $\\alpha_1$ (amplitude), and $T_1$ are fitting parameters."
   ]
  },
  {
   "cell_type": "markdown",
   "id": "71f92258",
   "metadata": {},
   "source": [
    "## [Phase damping channel](https://qiskit.org/ecosystem/aer/stubs/qiskit_aer.noise.phase_damping_error.html#qiskit_aer.noise.phase_damping_error) (pure dephasing)<a name=\"pdamp\" /> "
   ]
  },
  {
   "cell_type": "markdown",
   "id": "8725fd5c",
   "metadata": {},
   "source": [
    "The phase damping channel models the `loss of coherence (pure dephasing)` of a quantum system due to its interaction with an environment. \"Pure dephasing in the `transverse plane` arises from `longitudinal noise` along the $z$-axis\" [[4]](#).\n",
    "\n",
    "The phase damping quantum error channel action on a density matrix (state) $\\rho$ is defined by the following CPTP map:\n",
    "\n",
    "\\begin{eqnarray}\n",
    "\\mathcal{E}_{PD}(\\rho) = K_0 \\rho K_0^\\dagger + K_1 \\rho K_1^\\dagger,\n",
    "\\end{eqnarray}\n",
    "\n",
    "where $K_0$ and $K_1$ are Kraus operator satisfying $$K_0^\\dagger K_0 + K_1^\\dagger K_1 = \\mathbb{I}.$$\n",
    "\n",
    "For a 1-qubit (two dimensional) system (using Nielsen & Chuang's representation):\n",
    "\n",
    "\\begin{eqnarray}\n",
    "K_0 &=& \\begin{pmatrix} 1 & 0 \\\\ 0 & \\sqrt{1-\\Gamma_\\phi} \\end{pmatrix}, \\quad\n",
    "K_1 = \\begin{pmatrix} 0 & 0 \\\\ 0 & \\sqrt{\\Gamma_\\phi} \\end{pmatrix}, \\\\\n",
    "\\Gamma_\\phi &=& \\frac{1}{T_\\phi} = 1-e^{-t/T_\\phi}.\n",
    "\\end{eqnarray}\n",
    "\n",
    "**Recall:** in a density matrix $\\rho$, the `diagonal elements` $\\rho_{ii} = \\langle i|\\rho|i\\rangle$ `represent the populations` (relative amplitudes) in the different basis states, while the `off-diagonal elements represent the coherences`. \n",
    "\n",
    "**Note:** in quantum mechanics, \"probability\" and \"population\" are often used interchangeably to refer to the likelihood of finding a quantum system in a particular state.\n",
    "\n",
    "Parameters:\n",
    "- $K_0$: Kraus operator that leaves the $|0\\rangle$ state unchanged, but reduces the amplitude of the $|1\\rangle$.\n",
    "- $K_1$: Kraus operator that destroys the $|0\\rangle$ state and reduces the amplitude of the $|1\\rangle$ state.\n",
    "- $\\Gamma_\\phi$: is the phase damping error rate parameter. Represents the rate of decay of coherence. \n",
    "    - No decoherence loss ($\\Gamma_\\phi=0$).\n",
    "    - Complete decoherence loss ($\\Gamma_\\phi=1$). The off-diagonal elements of $\\rho$ are zero.\n",
    "- $T_\\phi$: is the decoherence a.k.a `dephasing time` of the process (experimental fitting parameter)."
   ]
  },
  {
   "cell_type": "markdown",
   "id": "60113300",
   "metadata": {},
   "source": [
    "The fitting function to measure $T_{\\phi}$ reads:\n",
    "\n",
    "$$f(t) = \\alpha_0 + \\alpha_1 exp\\Big(\\frac{-t}{T_\\phi}\\Big).$$\n",
    "\n",
    "Where \n",
    "\n",
    "- $t$ is the time interval between pulses. \n",
    "- $\\alpha_0$ (offset), $\\alpha_1$ (amplitude), and $T_\\phi$ are fitting parameters."
   ]
  },
  {
   "cell_type": "markdown",
   "id": "fac29f20",
   "metadata": {},
   "source": [
    "## [Phase-amplitude damping error channel](https://qiskit.org/documentation/stable/0.19/stubs/qiskit.providers.aer.noise.phase_amplitude_damping_error.html#phase-amplitude-damping-error) (transverse relaxation)<a name=\"phaseamplitude\" /> "
   ]
  },
  {
   "cell_type": "markdown",
   "id": "c08e7aab",
   "metadata": {},
   "source": [
    "The phase-amplitude damping channel combines the single-qubit [phase damping](https://qiskit.org/documentation/stable/0.19/stubs/qiskit.providers.aer.noise.phase_damping_error.html#qiskit.providers.aer.noise.phase_damping_error) `(pure dephasing)` and [amplitude damping](https://qiskit.org/documentation/stable/0.19/stubs/qiskit.providers.aer.noise.amplitude_damping_error.html#qiskit.providers.aer.noise.amplitude_damping_error) (`longitudinal energy relaxation)` quantum error channels. This combination leads to `Transverse relaxation` and results in `loss of coherence` at a rate [[4]](#)[[5]](#):\n",
    "\n",
    "$$\\Gamma_2 = \\Gamma_1/2 + \\Gamma_\\phi = \\frac{1}{T_2} = \\frac{1}{2T_1} + \\frac{1}{T_\\phi}.$$\n",
    "\n",
    "The phase-amplitude damping quantum error channel action on a density matrix (state) $\\rho$ is defined by the following CPTP map:\n",
    "\n",
    "$$\\mathcal{E}(\\rho) = \\sum_{i=0}^5 E_i\\rho E_i^\\dagger.$$"
   ]
  },
  {
   "cell_type": "markdown",
   "id": "04919850",
   "metadata": {},
   "source": [
    "Kraus operators:\n",
    "\n",
    "\\begin{align*}\n",
    "A_0 &= \\sqrt{1-p_1} \\begin{pmatrix} 1 & 0 \\\\ 0 & \\sqrt{1-a-b} \\end{pmatrix}, \\\\\n",
    "A_1 &= \\sqrt{1-p_1} \\begin{pmatrix} 0 & \\sqrt{a} \\\\ 0 & 0 \\end{pmatrix}, \\\\\n",
    "A_2 &= \\sqrt{1-p_1} \\begin{pmatrix} 0 & 0 \\\\ 0 & \\sqrt{b} \\end{pmatrix}, \\\\\n",
    "B_0 &= \\sqrt{p_1} \\begin{pmatrix} \\sqrt{1-a-b} & 0 \\\\ 0 & 1 \\end{pmatrix}, \\\\\n",
    "B_1 &= \\sqrt{p_1} \\begin{pmatrix} 0 & 0 \\\\ \\sqrt{a} & 0 \\end{pmatrix}, \\\\\n",
    "B_2 &= \\sqrt{p_1} \\begin{pmatrix} \\sqrt{b} & 0 \\\\ 0 & 0 \\end{pmatrix}.\n",
    "\\end{align*}"
   ]
  },
  {
   "cell_type": "markdown",
   "id": "06d0d6d9",
   "metadata": {},
   "source": [
    "With\n",
    "\n",
    "\\begin{align*}\n",
    "a \\equiv \\Gamma_1 &= 1 - exp(- t / T_1). \\\\\n",
    "b \\equiv \\Gamma_\\phi &= 1 - exp(- t / T_\\phi).\n",
    "\\end{align*}\n",
    "\n",
    "Parameters:\n",
    "\n",
    "- $\\Gamma_2$: is the phase-amplitude damping error rate parameter.\n",
    "- $a \\equiv \\Gamma_1$: the amplitude damping error rate parameter.\n",
    "- $b \\equiv \\Gamma_\\phi$: the phase damping error rate parameter.\n",
    "- $T_2$: is the `effective decoherence time` of the process (experimental fitting parameter). It is the `constant decay time of the transverse component` of the Bloch vector to $|0\\rangle$ [[5]](#).\n",
    "- $t$: time interval between drive pulses. Also the duration of the interaction between the system and the environment.\n",
    "\n",
    "The standard procedure to measure the `transverse relaxation time` $T_2$, i.e, the effective coherence time of a qubit, is either a Ramsey [[5]](#) or [Hahn Echo](https://learn.qiskit.org/course/quantum-hardware-pulses/calibrating-qubits-using-qiskit-pulse#hahn) [[6]](#) experiment. \n",
    "\n",
    "- **Ramsey**: to observe Ramsey fringes one drives the qubit off-resonance ($\\omega_d \\ne \\omega_q$) with a $\\pi/2$ pulse followed by a $-\\pi/2$ pulse to send the transverse component back to the longitudinal component. Finally, one applies a readout pulse (measurement) at the resonator's frequency $\\omega_r$. \n",
    "- **Hahn Echo**: the main idea is to apply a calibrated $\\pi/2$ drive pulse at the beginning, followed by a $\\pi$ pulse at time $\\tau$ to reverse the phase and another $\\pi/2$ pulse at time $2\\tau$. The $\\pi$ pulse at time $\\tau$ creates an echo at time $2\\tau$. This pulse sequence is then followed by a readout pulse (measurement) of frequency $\\omega_r$. \n",
    "\n",
    "The fitting function to measure $T_2$ via Ramsey fringes reads [[5]](#):\n",
    "\n",
    "$$f(t) = \\alpha_0 + \\alpha_1 cos(\\omega_{qd} \\tau+ \\alpha_2)exp\\Big(\\frac{-\\tau}{T_2}\\Big).$$\n",
    "\n",
    "Where \n",
    "\n",
    "- $\\tau$ is the time interval between the two $\\pi/2$ pulses.\n",
    "- $\\omega_{qd} \\equiv \\omega_d - \\omega_q$ ($\\omega_d \\ne \\omega_q$) is the frequency detuning of the qubit.\n",
    "- $\\omega_{q} \\equiv \\omega_{01}$ denotes the qubit transition frequency between states $|0\\rangle$ and $|1\\rangle$.\n",
    "- $\\omega_{d}$ is the pulse (drive) frequency used to drive the qubit.\n",
    "- $\\alpha_0$ (offset), $\\alpha_1$ (amplitude), $\\alpha_2$ (phase offset) and $T_2$ are fitting parameters."
   ]
  },
  {
   "cell_type": "code",
   "execution_count": 7,
   "id": "03cf5f54",
   "metadata": {},
   "outputs": [],
   "source": [
    "# Creating a phase-amplitude damping noise model.\n",
    "\n",
    "# Parameters from real experiment:\n",
    "t = 0.02                   # (in micro seconds) = 20ns The duration of the interaction between system and environment.\n",
    "T1 = 10                    # The longitudinal relaxation time (μs) of the qubits.\n",
    "T2 = 0.25*T1               # The transverse relaxation time (μs) of the qubits.\n",
    "Tphi = (2*T2*T1)/(2*T1-T2) # The dephasing time (μs) of the qubits.\n",
    "\n",
    "# Parameters for the error channel:\n",
    "a = 1 - exp(-t/T1)   # Amplitude damping error (longitudinal relaxation) rate parameter.\n",
    "b = 1 - exp(-t/Tphi) # Phase damping error (dephasing) rate parameter.\n",
    "p = 0.01             # The population of the excited state |1> at equilibrium.\n",
    "\n",
    "# Create phase-amplitude damping error channel:\n",
    "error = phase_amplitude_damping_error(param_amp = a, param_phase = b, excited_state_population = p)\n",
    "\n",
    "# Instructions\n",
    "instructions = ['id', 'x', 'y', 'z', 'rx', 'ry', 'rz'] # 'id' is the idle (identity) gate as placeholder.\n",
    "\n",
    "# Adding error to noise model on a list of gates for all qubits:\n",
    "noise_model = NoiseModel()\n",
    "noise_model.add_all_qubit_quantum_error(error, instructions)"
   ]
  },
  {
   "cell_type": "markdown",
   "id": "4a7efba5",
   "metadata": {},
   "source": [
    "## [Kraus error channel](https://qiskit.org/documentation/stable/0.19/stubs/qiskit.providers.aer.noise.kraus_error.html#kraus-error)<a name=\"kraus\" /> "
   ]
  },
  {
   "cell_type": "code",
   "execution_count": 8,
   "id": "eeb90692",
   "metadata": {},
   "outputs": [
    {
     "data": {
      "text/plain": [
       "<NoiseModel on ['cx', 'cp']>"
      ]
     },
     "execution_count": 8,
     "metadata": {},
     "output_type": "execute_result"
    }
   ],
   "source": [
    "def noise_model_function(T1, T2, t, p = 0.001):\n",
    "    '''\n",
    "    Create a 2-qubit noise model with kraus error channel.\n",
    "\n",
    "    Args:\n",
    "        - T1 (float): the longitudinal relaxation time (μs) of the qubits.\n",
    "        - T2 (float): the transverse relaxation time (μs) of the qubits.\n",
    "        - t (float): time between gate operations.\n",
    "        - p (float): excited population probability.\n",
    "\n",
    "    Returns:\n",
    "        - noise_model (QuantumError): a noise model object with Kraus error added.\n",
    "    '''\n",
    "    Tphi = (2*T2*T1)/(2*T1 - T2)\n",
    "    a = 1 - exp(- t / Tphi)\n",
    "    \n",
    "    A1 = [[1,0,0,0], [0,sqrt(1-a),0,0], [0,0,sqrt(1-a),0], [0,0,0,1-a]]\n",
    "    A2 = [[0,0,0,0], [0,sqrt(a),0,0], [0,0,0,0], [0,0,0,sqrt(1-a)*sqrt(a)]]\n",
    "    A3 = [[0,0,0,0], [0,0,0,0], [0,0,sqrt(a),0], [0,0,0,sqrt(1-a)*sqrt(a)]]\n",
    "    A4 = [[0,0,0,0], [0,0,0,0], [0,0,0,0], [0,0,0,a]]\n",
    "\n",
    "    error = kraus_error([A1,A2,A3,A4])\n",
    "    noise_model = NoiseModel()\n",
    "    noise_model.add_all_qubit_quantum_error(error, ['cx', 'cp'], warnings=False)\n",
    "    return noise_model\n",
    "\n",
    "# Params\n",
    "t = 0.02 # (in micro seconds) = 20ns.\n",
    "T1 = 10 \n",
    "T2 = 0.25*T1 \n",
    "\n",
    "noise_model_function(T1, T2, t)"
   ]
  },
  {
   "cell_type": "markdown",
   "id": "b688cee0",
   "metadata": {},
   "source": [
    "# &nbsp; <a href=\"#\"><img valign=\"middle\" height=\"45px\" src=\"https://img.icons8.com/book\" width=\"45\" hspace=\"0px\" vspace=\"0px\"></a> References"
   ]
  },
  {
   "cell_type": "markdown",
   "id": "e35be66f",
   "metadata": {},
   "source": [
    "[1] Nielsen MA, Chuang IL. 2010. Quantum Computation and Quantum Information. New York: [Cambridge Univ. Press.](https://doi.org/10.1017/CBO9780511976667) 10th Anniv. Ed. \n",
    "- Chapter 8: Quantum noise and quantum operations.\n",
    "\n",
    "[2] John Preskill. \"Course Information for Physics 219/Computer Science 219 Quantum Computation.\" [California Institute of Technology.](http://theory.caltech.edu/~preskill/ph229/)\n",
    "\n",
    "[3] P. Krantz, M. Kjaergaard, F. Yan, T. P. Orlando, S. Gustavsson, W. D. Oliver; A quantum engineer's guide to superconducting qubits. [Applied Physics Reviews](https://doi.org/10.1063/1.5089550) 1 June 2019; 6 (2): 021318. \n",
    "\n",
    "[4] Sangil Kwon, Akiyoshi Tomonaga, Gopika Lakshmi Bhai, Simon J. Devitt, Jaw-Shen Tsai; Gate-based superconducting quantum computing. [Journal of Applied Physics](https://doi.org/10.1063/5.0029735) 28 January 2021; 129 (4): 041102. \n",
    "\n",
    "[5] [Calibrating qubits using Qiskit Pulse](https://learn.qiskit.org/course/quantum-hardware-pulses/calibrating-qubits-using-qiskit-pulse).\n",
    "\n",
    "[6] Qiskit documentation."
   ]
  },
  {
   "cell_type": "code",
   "execution_count": null,
   "id": "810491bb",
   "metadata": {},
   "outputs": [],
   "source": []
  }
 ],
 "metadata": {
  "kernelspec": {
   "display_name": "Python 3 (ipykernel)",
   "language": "python",
   "name": "python3"
  },
  "language_info": {
   "codemirror_mode": {
    "name": "ipython",
    "version": 3
   },
   "file_extension": ".py",
   "mimetype": "text/x-python",
   "name": "python",
   "nbconvert_exporter": "python",
   "pygments_lexer": "ipython3",
   "version": "3.9.13"
  }
 },
 "nbformat": 4,
 "nbformat_minor": 5
}
